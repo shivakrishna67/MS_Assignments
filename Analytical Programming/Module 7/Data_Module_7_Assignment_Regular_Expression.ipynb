{
  "nbformat": 4,
  "nbformat_minor": 0,
  "metadata": {
    "colab": {
      "provenance": []
    },
    "kernelspec": {
      "name": "python3",
      "display_name": "Python 3"
    },
    "language_info": {
      "name": "python"
    }
  },
  "cells": [
    {
      "cell_type": "code",
      "execution_count": 1,
      "metadata": {
        "colab": {
          "base_uri": "https://localhost:8080/"
        },
        "id": "mYwejqEDK8ph",
        "outputId": "1c16b478-eb6a-461e-debb-5568d76d9a83"
      },
      "outputs": [
        {
          "output_type": "stream",
          "name": "stdout",
          "text": [
            "Capacity Values: []\n",
            "Attendance Values: [1315.0, 24368.0, 3000.0, 10782.0, 20000.0]\n",
            "Artist Names: ['Black Stone Cherry', 'Lady Gaga ', 'Paramore ', 'Rage Against the Machine', 'BEYONCE']\n",
            "Gross Revenue: []\n",
            "Task Four Results:\n",
            "Task Five Result: E7h=\n",
            "Task Six Result: carefully\n"
          ]
        }
      ],
      "source": [
        "import re\n",
        "\n",
        "class ConcertDataProcessor:\n",
        "    def __init__(self, data):\n",
        "        self.data = data\n",
        "\n",
        "    def task_one(self):\n",
        "        capacity_values = [int(match.group(1)) for match in re.finditer(r'CAPACITY: (\\d+)', self.data)]\n",
        "        attendance_values = [float(match.group(1).replace(',', '')) for match in re.finditer(r'ATTENDANCE: (\\d+(?:,\\d+)?)', self.data)]\n",
        "        return capacity_values, attendance_values\n",
        "\n",
        "    def task_two(self):\n",
        "        artist_names = re.findall(r'[*]+(.+?)---', self.data)\n",
        "        return artist_names\n",
        "\n",
        "    def task_three(self):\n",
        "        gross_revenue = [float(match.group(1).replace(',', '')) for match in re.finditer(r'GATE: (\\$\\d+(?:,\\d+)*)(?:\\.(\\d+))?', self.data)]\n",
        "        return gross_revenue\n",
        "\n",
        "    def task_four(self):\n",
        "        capacity_values, attendance_values = self.task_one()\n",
        "        gross_revenue = self.task_three()\n",
        "        artist_names = self.task_two()\n",
        "\n",
        "        artist_data = {}\n",
        "\n",
        "        # Ensure that all lists have the same length\n",
        "        min_length = min(len(capacity_values), len(attendance_values), len(gross_revenue))\n",
        "\n",
        "        for i in range(min_length):\n",
        "            artist = artist_names[i]\n",
        "            num_attendees = attendance_values[i]\n",
        "            revenue = gross_revenue[i]\n",
        "            avg_ticket_price = revenue / num_attendees\n",
        "            full_venue_percentage = (num_attendees / capacity_values[i]) * 100\n",
        "            is_multi_word = len(artist.split()) > 1\n",
        "\n",
        "            artist_data[artist] = {\n",
        "                \"Average Ticket Price\": \"${:.2f}\".format(avg_ticket_price),\n",
        "                \"Multi-Word Name\": is_multi_word,\n",
        "                \"Venue Fullness\": \"{:.2f}%\".format(full_venue_percentage)\n",
        "        }\n",
        "\n",
        "        return artist_data\n",
        "\n",
        "\n",
        "    def task_five(self):\n",
        "        text = 'FIdD1E7h='\n",
        "        match = re.search(r'\\D[a-zA-Z]*\\d[^,]=', text)\n",
        "        if match:\n",
        "            return match.group()\n",
        "        else:\n",
        "            return \"No match found\"\n",
        "\n",
        "    def task_six(self):\n",
        "        text = 'The spy was carefully disguised'\n",
        "        match = re.search(r'\\w+ly\\b', text)\n",
        "        return match.group()\n",
        "\n",
        "if __name__ == \"__main__\":\n",
        "    data = \"JUNE:*****Black Stone Cherry---CAPACITY---:1500 -- $ATTENDANCE: 1,315--GATE:--$28,492 ;*****Lady Gaga ----CAPACITY---:25,000--- $ATTENDANCE: 24,368---GATE:--$461,956#;*****Paramore ----CAPACITY---:3000 ---$ATTENDANCE: 3,000 ---GATE:-$150,000;*****Rage Against the Machine---CAPACITY---:12000 ---$ATTENDANCE: 10,782 ---GATE: --$724,087;*****BEYONCE---CAPACITY--:20000---$ATTENDANCE: 20,000—-GATE:$2,400,000*****\"\n",
        "    processor = ConcertDataProcessor(data)\n",
        "    capacity, attendance = processor.task_one()\n",
        "    artist_names = processor.task_two()\n",
        "    gross_revenue = processor.task_three()\n",
        "    artist_data = processor.task_four()\n",
        "    regex_match_task_five = processor.task_five()\n",
        "    regex_match_task_six = processor.task_six()\n",
        "\n",
        "    print(\"Capacity Values:\", capacity)\n",
        "    print(\"Attendance Values:\", attendance)\n",
        "    print(\"Artist Names:\", artist_names)\n",
        "    print(\"Gross Revenue:\", gross_revenue)\n",
        "    print(\"Task Four Results:\")\n",
        "    for artist, data in artist_data.items():\n",
        "        print(artist, data)\n",
        "    print(\"Task Five Result:\", regex_match_task_five)\n",
        "    print(\"Task Six Result:\", regex_match_task_six)\n"
      ]
    },
    {
      "cell_type": "code",
      "source": [],
      "metadata": {
        "id": "kDy5N2b_NOvK"
      },
      "execution_count": null,
      "outputs": []
    }
  ]
}
